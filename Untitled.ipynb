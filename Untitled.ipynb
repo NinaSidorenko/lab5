{
 "cells": [
  {
   "cell_type": "code",
   "execution_count": 93,
   "id": "e30f01db",
   "metadata": {},
   "outputs": [],
   "source": [
    "from csv import *\n",
    "import pandas as pd\n",
    "import matplotlib.pyplot as plt"
   ]
  },
  {
   "cell_type": "code",
   "execution_count": 77,
   "id": "ed6456c7",
   "metadata": {},
   "outputs": [],
   "source": [
    "def read_csv_file (path):\n",
    "    with open (file_path, 'r') as file:\n",
    "        data = file.readlines()\n",
    "    return data\n",
    "\n",
    "def preprocessing_data(data):\n",
    "    data = data [1:]\n",
    "    for i in range (len(data)):\n",
    "        data[i] = data[i].split(';')\n",
    "        data[i] = data[i][1:]\n",
    "        for j in range (len(data[i])-1):\n",
    "            data[i][j] = float (data[i][j])\n",
    "        data[i][len(data[i])-1] = float (data[i][len(data[i])-1][:-1])\n",
    "    return data\n",
    "\n",
    "def write_in_file (file_path, inf):\n",
    "    with open (file_path, \"a\") as file:\n",
    "        file.write(inf)"
   ]
  },
  {
   "cell_type": "markdown",
   "id": "1f88e34a",
   "metadata": {},
   "source": [
    "# Задание 1 "
   ]
  },
  {
   "cell_type": "markdown",
   "id": "d8b3209f",
   "metadata": {},
   "source": [
    "$$ J = \\frac{MgRrT^2}{4\\pi^2L}$$\n",
    "$$ M = 1262 г $$\n",
    "$$ g = 981 \\frac{см}{c^2}$$\n",
    "$$R = 132 мм$$\n",
    "$$r = 40 мм$$\n",
    "$$L =2054 мм$$\n"
   ]
  },
  {
   "cell_type": "code",
   "execution_count": 105,
   "id": "f0f62063",
   "metadata": {
    "scrolled": false
   },
   "outputs": [
    {
     "name": "stdout",
     "output_type": "stream",
     "text": [
      "[[109.0, 30.0], [108.0, 30.0]]\n",
      "[3.6333333333333333, 3.6]\n"
     ]
    }
   ],
   "source": [
    "file_path = \"time.csv\"\n",
    "time = read_csv_file (file_path)\n",
    "\n",
    "time = preprocessing_data(time)\n",
    "\n",
    "print (time)\n",
    "\n",
    "period = []\n",
    "for i in time:\n",
    "    T = i[0]/i[1]\n",
    "    period.append (T)\n",
    "    \n",
    "print (period)\n",
    "\n",
    "columns = ['t_0', 'n', 'T_0', 'J_0']\n",
    "tab = pd.DataFrame(columns=columns)\n",
    "\n",
    "\n",
    "M_p = 1.262\n",
    "g = 9.81\n",
    "R = 0.132\n",
    "r = 0.04\n",
    "L = 2.054\n",
    "\n",
    "inert = []\n",
    "for T in period:\n",
    "    J = (M_p*g*R*r*(T**2))/(4*(3.14**2)*L)\n",
    "    inert.append (J)\n",
    "    \n",
    "av_J = round((inert[0]+inert[1])/2, 4)\n",
    "\n",
    "for i in range(2):\n",
    "    line = [time[i][0], time[i][1], round(period[i], 2), round (inert[i], 4)]\n",
    "    temp_df = pd.DataFrame([line], columns=columns)\n",
    "    tab = pd.concat([tab, temp_df], ignore_index=True)\n"
   ]
  },
  {
   "cell_type": "code",
   "execution_count": 106,
   "id": "57b3009a",
   "metadata": {},
   "outputs": [
    {
     "data": {
      "text/html": [
       "<div>\n",
       "<style scoped>\n",
       "    .dataframe tbody tr th:only-of-type {\n",
       "        vertical-align: middle;\n",
       "    }\n",
       "\n",
       "    .dataframe tbody tr th {\n",
       "        vertical-align: top;\n",
       "    }\n",
       "\n",
       "    .dataframe thead th {\n",
       "        text-align: right;\n",
       "    }\n",
       "</style>\n",
       "<table border=\"1\" class=\"dataframe\">\n",
       "  <thead>\n",
       "    <tr style=\"text-align: right;\">\n",
       "      <th></th>\n",
       "      <th>t_0</th>\n",
       "      <th>n</th>\n",
       "      <th>T_0</th>\n",
       "      <th>J_0</th>\n",
       "    </tr>\n",
       "  </thead>\n",
       "  <tbody>\n",
       "    <tr>\n",
       "      <th>0</th>\n",
       "      <td>109.0</td>\n",
       "      <td>30.0</td>\n",
       "      <td>3.63</td>\n",
       "      <td>0.0107</td>\n",
       "    </tr>\n",
       "    <tr>\n",
       "      <th>1</th>\n",
       "      <td>108.0</td>\n",
       "      <td>30.0</td>\n",
       "      <td>3.60</td>\n",
       "      <td>0.0105</td>\n",
       "    </tr>\n",
       "  </tbody>\n",
       "</table>\n",
       "</div>"
      ],
      "text/plain": [
       "     t_0     n   T_0     J_0\n",
       "0  109.0  30.0  3.63  0.0107\n",
       "1  108.0  30.0  3.60  0.0105"
      ]
     },
     "execution_count": 106,
     "metadata": {},
     "output_type": "execute_result"
    }
   ],
   "source": [
    "tab"
   ]
  },
  {
   "cell_type": "code",
   "execution_count": 107,
   "id": "a410de7e",
   "metadata": {},
   "outputs": [
    {
     "data": {
      "text/plain": [
       "0.0106"
      ]
     },
     "execution_count": 107,
     "metadata": {},
     "output_type": "execute_result"
    }
   ],
   "source": [
    "av_J"
   ]
  },
  {
   "cell_type": "markdown",
   "id": "89e0c30d",
   "metadata": {},
   "source": [
    "# Задание 2"
   ]
  },
  {
   "cell_type": "code",
   "execution_count": 91,
   "id": "c4e99969",
   "metadata": {},
   "outputs": [
    {
     "name": "stdout",
     "output_type": "stream",
     "text": [
      "[[0.0, 58.0, 30.0], [0.1, 110.0, 30.0], [0.06, 81.0, 30.0], [0.04, 71.0, 30.0], [0.05, 76.0, 30.0]]\n"
     ]
    }
   ],
   "source": [
    "file_path = \"inert.csv\"\n",
    "inert = read_csv_file (file_path)\n",
    "inert = preprocessing_data(inert)\n",
    "\n",
    "print (inert)\n",
    "\n",
    "columns = ['a', 't', 'n', 'T', \"J'\", 'J_a']\n",
    "tab1 = pd.DataFrame(columns=columns)\n",
    "\n",
    "M = 1.262 + 2*1.97\n",
    "g = 9.81\n",
    "R = 0.132\n",
    "r = 0.04\n",
    "L = 2.054\n",
    "\n",
    "for i in range(5):\n",
    "    line = [inert[i][0], int(inert[i][1]), int(inert[i][2]), round (inert[i][1]/inert[i][2], 2), round ((M*g*R*r*((inert[i][1]/inert[i][2])**2))/(4*(3.14**2)*L), 4),  round (((M*g*R*r*((inert[i][1]/inert[i][2])**2))/(4*(3.14**2)*L)-av_J)/2, 4)]\n",
    "    temp_df = pd.DataFrame([line], columns=columns)\n",
    "    tab1 = pd.concat([tab1, temp_df], ignore_index=True)"
   ]
  },
  {
   "cell_type": "code",
   "execution_count": 92,
   "id": "8e255ee4",
   "metadata": {},
   "outputs": [
    {
     "data": {
      "text/html": [
       "<div>\n",
       "<style scoped>\n",
       "    .dataframe tbody tr th:only-of-type {\n",
       "        vertical-align: middle;\n",
       "    }\n",
       "\n",
       "    .dataframe tbody tr th {\n",
       "        vertical-align: top;\n",
       "    }\n",
       "\n",
       "    .dataframe thead th {\n",
       "        text-align: right;\n",
       "    }\n",
       "</style>\n",
       "<table border=\"1\" class=\"dataframe\">\n",
       "  <thead>\n",
       "    <tr style=\"text-align: right;\">\n",
       "      <th></th>\n",
       "      <th>a</th>\n",
       "      <th>t</th>\n",
       "      <th>n</th>\n",
       "      <th>T</th>\n",
       "      <th>J'</th>\n",
       "      <th>J_a</th>\n",
       "    </tr>\n",
       "  </thead>\n",
       "  <tbody>\n",
       "    <tr>\n",
       "      <th>0</th>\n",
       "      <td>0.00</td>\n",
       "      <td>58</td>\n",
       "      <td>30</td>\n",
       "      <td>1.93</td>\n",
       "      <td>0.0124</td>\n",
       "      <td>0.0009</td>\n",
       "    </tr>\n",
       "    <tr>\n",
       "      <th>1</th>\n",
       "      <td>0.10</td>\n",
       "      <td>110</td>\n",
       "      <td>30</td>\n",
       "      <td>3.67</td>\n",
       "      <td>0.0447</td>\n",
       "      <td>0.0171</td>\n",
       "    </tr>\n",
       "    <tr>\n",
       "      <th>2</th>\n",
       "      <td>0.06</td>\n",
       "      <td>81</td>\n",
       "      <td>30</td>\n",
       "      <td>2.70</td>\n",
       "      <td>0.0242</td>\n",
       "      <td>0.0068</td>\n",
       "    </tr>\n",
       "    <tr>\n",
       "      <th>3</th>\n",
       "      <td>0.04</td>\n",
       "      <td>71</td>\n",
       "      <td>30</td>\n",
       "      <td>2.37</td>\n",
       "      <td>0.0186</td>\n",
       "      <td>0.0040</td>\n",
       "    </tr>\n",
       "    <tr>\n",
       "      <th>4</th>\n",
       "      <td>0.05</td>\n",
       "      <td>76</td>\n",
       "      <td>30</td>\n",
       "      <td>2.53</td>\n",
       "      <td>0.0213</td>\n",
       "      <td>0.0054</td>\n",
       "    </tr>\n",
       "  </tbody>\n",
       "</table>\n",
       "</div>"
      ],
      "text/plain": [
       "      a    t   n     T      J'     J_a\n",
       "0  0.00   58  30  1.93  0.0124  0.0009\n",
       "1  0.10  110  30  3.67  0.0447  0.0171\n",
       "2  0.06   81  30  2.70  0.0242  0.0068\n",
       "3  0.04   71  30  2.37  0.0186  0.0040\n",
       "4  0.05   76  30  2.53  0.0213  0.0054"
      ]
     },
     "execution_count": 92,
     "metadata": {},
     "output_type": "execute_result"
    }
   ],
   "source": [
    "tab1"
   ]
  },
  {
   "cell_type": "markdown",
   "id": "e4457cc3",
   "metadata": {},
   "source": [
    "# Задание 3"
   ]
  },
  {
   "cell_type": "code",
   "execution_count": 104,
   "id": "d74f2e43",
   "metadata": {},
   "outputs": [
    {
     "data": {
      "image/png": "[encoded data removed]",
      "text/plain": [
       "<Figure size 640x480 with 1 Axes>"
      ]
     },
     "metadata": {},
     "output_type": "display_data"
    },
    {
     "name": "stdout",
     "output_type": "stream",
     "text": [
      "1.6388888888888888\n",
      "0.33\n",
      "16.81\n"
     ]
    }
   ],
   "source": [
    "a2 = []\n",
    "J_a = []\n",
    "for i in range (len(inert)):\n",
    "    a2.append (inert[i][0]**2)\n",
    "    J_a.append(round (((M*g*R*r*((inert[i][1]/inert[i][2])**2))/(4*(3.14**2)*L)-av_J)/2, 4))\n",
    "a2.sort()\n",
    "J_a.sort()\n",
    "plt.plot (a2, J_a, 'ro')\n",
    "plt.plot (a2, J_a)\n",
    "plt.show()\n",
    "\n",
    "tg = (J_a[3]-J_a[0])/(a2[3]-a2[0])\n",
    "m = 1.97\n",
    "\n",
    "print (tg)\n",
    "print (round(m-tg, 2))\n",
    "print (round(((m-tg)/m)*100, 2))"
   ]
  },
  {
   "cell_type": "markdown",
   "id": "6cf70a7f",
   "metadata": {},
   "source": [
    "# Задание 4"
   ]
  },
  {
   "cell_type": "markdown",
   "id": "219b99a5",
   "metadata": {},
   "source": [
    "1. $$ \\epsilon = (|\\frac{\\partial lnJ}{\\partial M}|\\Delta M+|\\frac{\\partial lnJ}{\\partial g}|\\Delta g+|\\frac{\\partial lnJ}{\\partial R}|\\Delta R+|\\frac{\\partial lnJ}{\\partial r}|\\Delta r+|\\frac{\\partial lnJ}{\\partial T}|\\Delta T+|\\frac{\\partial lnJ}{\\partial L}|\\Delta L)*100\\% = (\\frac{\\Delta M}{M}+\\frac{\\Delta g}{g}+\\frac{\\Delta R}{R}+\\frac{\\Delta r}{r}+2\\frac{\\Delta T}{T}-\\frac{\\Delta L}{L})*100\\% $$"
   ]
  },
  {
   "cell_type": "markdown",
   "id": "ed46845a",
   "metadata": {},
   "source": [
    "2. $$ \\epsilon_T = (|\\frac{\\partial lnT}{\\partial t}|\\Delta t+|\\frac{\\partial lnT}{\\partial n}|\\Delta n)*100\\% = (\\frac{\\Delta t}{t}-\\frac{\\Delta n}{n})*100\\% = \\frac{\\Delta t}{t}*100\\%$$"
   ]
  },
  {
   "cell_type": "code",
   "execution_count": 109,
   "id": "f39bc692",
   "metadata": {},
   "outputs": [
    {
     "name": "stdout",
     "output_type": "stream",
     "text": [
      "0.00039\n"
     ]
    }
   ],
   "source": [
    "print (round(av_J*(0.01/M_p+0.01/g+0.001/R+0.001/r-0.01/L), 5))\n"
   ]
  }
 ],
 "metadata": {
  "kernelspec": {
   "display_name": "Python 3 (ipykernel)",
   "language": "python",
   "name": "python3"
  },
  "language_info": {
   "codemirror_mode": {
    "name": "ipython",
    "version": 3
   },
   "file_extension": ".py",
   "mimetype": "text/x-python",
   "name": "python",
   "nbconvert_exporter": "python",
   "pygments_lexer": "ipython3",
   "version": "3.11.5"
  }
 },
 "nbformat": 4,
 "nbformat_minor": 5
}
